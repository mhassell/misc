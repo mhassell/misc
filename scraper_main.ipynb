{
 "cells": [
  {
   "cell_type": "code",
   "execution_count": null,
   "metadata": {
    "collapsed": false,
    "deletable": true,
    "editable": true
   },
   "outputs": [
    {
     "name": "stdout",
     "output_type": "stream",
     "text": [
      "Would you like to view old downloads (0), download new videos (1), delete previously downloaded videos (2), add notes to a video (3), or exit (4)? \n",
      "3\n",
      "testing\n",
      "1 Stop Button Solution? - Computerphile\n",
      "2 GNU/Linux & Video Editing - Computerphile\n",
      "3 Fake News Consumers - Computerphile\n",
      "4 Now Hiring? (What Computing Companies Look For) - Computerphile\n",
      "5 Reason for ARM (Acorn Archimedes at 30) - Computerphile\n",
      "Which video would you like to annotate? (Enter the id number)5\n",
      "Note: testing yet again\n",
      "Would you like to view old downloads (0), download new videos (1), delete previously downloaded videos (2), add notes to a video (3), or exit (4)? \n"
     ]
    }
   ],
   "source": [
    "run = True\n",
    "while run:\n",
    "    print \"Would you like to view old downloads (0), download new videos (1), delete previously downloaded videos (2), add notes to a video (3), or exit (4)? \"\n",
    "    choice = int(raw_input())\n",
    "    if choice not in (0,1,2,3,4):\n",
    "        print \"Invalid choice\"\n",
    "        continue\n",
    "    if choice == 0:\n",
    "        pass\n",
    "    elif choice == 1:\n",
    "        import youtubescraper    \n",
    "    elif choice == 2:\n",
    "        import scraperDelete\n",
    "    elif choice == 3:\n",
    "        import takeNotes\n",
    "    elif choice == 4:\n",
    "        run = False\n",
    "        \n",
    "    "
   ]
  },
  {
   "cell_type": "code",
   "execution_count": null,
   "metadata": {
    "collapsed": true,
    "deletable": true,
    "editable": true
   },
   "outputs": [],
   "source": []
  },
  {
   "cell_type": "code",
   "execution_count": null,
   "metadata": {
    "collapsed": true,
    "deletable": true,
    "editable": true
   },
   "outputs": [],
   "source": []
  }
 ],
 "metadata": {
  "kernelspec": {
   "display_name": "Python 2",
   "language": "python",
   "name": "python2"
  }
 },
 "nbformat": 4,
 "nbformat_minor": 2
}
