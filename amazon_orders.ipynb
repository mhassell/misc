{
 "cells": [
  {
   "cell_type": "code",
   "execution_count": 136,
   "metadata": {
    "collapsed": false,
    "deletable": true,
    "editable": true
   },
   "outputs": [],
   "source": [
    "import pandas as pd"
   ]
  },
  {
   "cell_type": "code",
   "execution_count": 137,
   "metadata": {
    "collapsed": false
   },
   "outputs": [],
   "source": [
    "orders = pd.read_csv('orders.csv');"
   ]
  },
  {
   "cell_type": "code",
   "execution_count": 138,
   "metadata": {
    "collapsed": false
   },
   "outputs": [],
   "source": [
    "prices = orders['Item Total'];"
   ]
  },
  {
   "cell_type": "code",
   "execution_count": 139,
   "metadata": {
    "collapsed": true
   },
   "outputs": [],
   "source": [
    "f = lambda x: float(x[1:])"
   ]
  },
  {
   "cell_type": "code",
   "execution_count": 140,
   "metadata": {
    "collapsed": false
   },
   "outputs": [],
   "source": [
    "orders['Item Total']=orders['Item Total'].apply(f)"
   ]
  },
  {
   "cell_type": "code",
   "execution_count": 141,
   "metadata": {
    "collapsed": false
   },
   "outputs": [
    {
     "data": {
      "text/plain": [
       "4872.8500000000004"
      ]
     },
     "execution_count": 141,
     "metadata": {},
     "output_type": "execute_result"
    }
   ],
   "source": [
    "orders['Item Total'].sum()"
   ]
  },
  {
   "cell_type": "code",
   "execution_count": 142,
   "metadata": {
    "collapsed": false
   },
   "outputs": [],
   "source": [
    "types = orders['Category']"
   ]
  },
  {
   "cell_type": "code",
   "execution_count": 143,
   "metadata": {
    "collapsed": false
   },
   "outputs": [
    {
     "data": {
      "text/plain": [
       "count           201\n",
       "unique           21\n",
       "top       Paperback\n",
       "freq             74\n",
       "Name: Category, dtype: object"
      ]
     },
     "execution_count": 143,
     "metadata": {},
     "output_type": "execute_result"
    }
   ],
   "source": [
    "types.describe()"
   ]
  },
  {
   "cell_type": "code",
   "execution_count": 144,
   "metadata": {
    "collapsed": false
   },
   "outputs": [],
   "source": [
    "# how many books have I bought?\n",
    "counts = {}\n",
    "counts['Books'] = 0 \n",
    "for item in types:\n",
    "    if item == \"Paperback\" or item == \"Hardcover\":\n",
    "        counts['Books']+=1\n",
    "    if item in counts.keys():\n",
    "        counts[item] += 1\n",
    "    else:\n",
    "        counts[item] = 1"
   ]
  },
  {
   "cell_type": "code",
   "execution_count": 145,
   "metadata": {
    "collapsed": false
   },
   "outputs": [
    {
     "data": {
      "text/plain": [
       "{nan: 16,\n",
       " 'Apparel': 7,\n",
       " 'Audio CD': 1,\n",
       " 'Books': 102,\n",
       " 'DVD': 11,\n",
       " 'Ecard Gift Certificate': 2,\n",
       " 'Electronics': 11,\n",
       " 'Hardcover': 28,\n",
       " 'Health and Beauty': 26,\n",
       " 'Home': 1,\n",
       " 'Kitchen': 11,\n",
       " 'Magazine': 1,\n",
       " 'Misc.': 3,\n",
       " 'Office Product': 3,\n",
       " 'Paperback': 74,\n",
       " 'Personal Computers': 7,\n",
       " 'Sports': 5,\n",
       " 'Tools & Hardware': 1,\n",
       " 'Tools & Home Improvement': 1,\n",
       " 'Toy': 2,\n",
       " 'Vinyl Bound': 1,\n",
       " 'Watch': 1,\n",
       " 'Wireless Phone Accessory': 4}"
      ]
     },
     "execution_count": 145,
     "metadata": {},
     "output_type": "execute_result"
    }
   ],
   "source": [
    "counts"
   ]
  },
  {
   "cell_type": "code",
   "execution_count": 146,
   "metadata": {
    "collapsed": true
   },
   "outputs": [],
   "source": [
    "# how much have I spent in each catagory?\n",
    "# what is the most expensive catagory?\n",
    "# what month do I buy the most?\n",
    "# what was my most expensive order?\n",
    "# cheapest order?\n",
    "# average order?\n",
    "# what are my monthly purchases each month "
   ]
  },
  {
   "cell_type": "code",
   "execution_count": 147,
   "metadata": {
    "collapsed": false
   },
   "outputs": [
    {
     "data": {
      "text/plain": [
       "0.01"
      ]
     },
     "execution_count": 147,
     "metadata": {},
     "output_type": "execute_result"
    }
   ],
   "source": [
    "orders['Item Total'].min()"
   ]
  },
  {
   "cell_type": "code",
   "execution_count": 134,
   "metadata": {
    "collapsed": false
   },
   "outputs": [],
   "source": [
    "dates = orders['Order Date']"
   ]
  },
  {
   "cell_type": "code",
   "execution_count": 135,
   "metadata": {
    "collapsed": false
   },
   "outputs": [
    {
     "data": {
      "text/plain": [
       "0      01/22/11\n",
       "1      02/19/11\n",
       "2      03/23/11\n",
       "3      06/10/11\n",
       "4      06/22/11\n",
       "5      09/02/11\n",
       "6      09/02/11\n",
       "7      10/14/11\n",
       "8      10/14/11\n",
       "9      11/04/11\n",
       "10     11/04/11\n",
       "11     11/04/11\n",
       "12     11/23/11\n",
       "13     11/23/11\n",
       "14     12/05/11\n",
       "15     12/05/11\n",
       "16     12/05/11\n",
       "17     12/05/11\n",
       "18     12/30/11\n",
       "19     12/30/11\n",
       "20     01/10/12\n",
       "21     01/10/12\n",
       "22     01/13/12\n",
       "23     01/20/12\n",
       "24     01/20/12\n",
       "25     01/20/12\n",
       "26     01/20/12\n",
       "27     01/29/12\n",
       "28     02/07/12\n",
       "29     02/28/12\n",
       "         ...   \n",
       "187    08/09/16\n",
       "188    09/02/16\n",
       "189    09/02/16\n",
       "190    09/04/16\n",
       "191    09/06/16\n",
       "192    09/26/16\n",
       "193    10/20/16\n",
       "194    10/20/16\n",
       "195    11/07/16\n",
       "196    11/17/16\n",
       "197    11/28/16\n",
       "198    12/14/16\n",
       "199    12/22/16\n",
       "200    01/02/17\n",
       "201    01/02/17\n",
       "202    01/02/17\n",
       "203    01/16/17\n",
       "204    01/26/17\n",
       "205    02/01/17\n",
       "206    02/01/17\n",
       "207    02/02/17\n",
       "208    02/09/17\n",
       "209    02/16/17\n",
       "210    02/17/17\n",
       "211    02/17/17\n",
       "212    02/20/17\n",
       "213    02/28/17\n",
       "214    03/06/17\n",
       "215    03/07/17\n",
       "216    03/09/17\n",
       "Name: Order Date, dtype: object"
      ]
     },
     "execution_count": 135,
     "metadata": {},
     "output_type": "execute_result"
    }
   ],
   "source": [
    "dates"
   ]
  },
  {
   "cell_type": "code",
   "execution_count": null,
   "metadata": {
    "collapsed": true
   },
   "outputs": [],
   "source": []
  }
 ],
 "metadata": {
  "kernelspec": {
   "display_name": "Python 2",
   "language": "python",
   "name": "python2"
  },
  "language_info": {
   "codemirror_mode": {
    "name": "ipython",
    "version": 2
   },
   "file_extension": ".py",
   "mimetype": "text/x-python",
   "name": "python",
   "nbconvert_exporter": "python",
   "pygments_lexer": "ipython2",
   "version": "2.7.12"
  }
 },
 "nbformat": 4,
 "nbformat_minor": 2
}
