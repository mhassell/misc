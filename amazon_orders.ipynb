{
 "cells": [
  {
   "cell_type": "code",
   "execution_count": 73,
   "metadata": {
    "collapsed": false,
    "deletable": true,
    "editable": true
   },
   "outputs": [],
   "source": [
    "import pandas as pd\n",
    "import matplotlib.pyplot as plt\n",
    "plt.style.use('ggplot')\n",
    "import numpy as np\n",
    "%matplotlib inline\n",
    "from collections import defaultdict"
   ]
  },
  {
   "cell_type": "code",
   "execution_count": 74,
   "metadata": {
    "collapsed": true,
    "deletable": true,
    "editable": true
   },
   "outputs": [],
   "source": [
    "orders = pd.read_csv('orders.csv')"
   ]
  },
  {
   "cell_type": "code",
   "execution_count": 75,
   "metadata": {
    "collapsed": false,
    "deletable": true,
    "editable": true
   },
   "outputs": [
    {
     "data": {
      "text/plain": [
       "0                      KarmetiK Machine Orchestra\n",
       "1                                          Primer\n",
       "2             Independent Lens: Between the Folds\n",
       "3    Safer's Insecticidal Soap: 500mL Concentrate\n",
       "4                           The French Connection\n",
       "Name: Title, dtype: object"
      ]
     },
     "execution_count": 75,
     "metadata": {},
     "output_type": "execute_result"
    }
   ],
   "source": [
    "orders['Title'].head()"
   ]
  },
  {
   "cell_type": "code",
   "execution_count": 76,
   "metadata": {
    "collapsed": true,
    "deletable": true,
    "editable": true
   },
   "outputs": [],
   "source": [
    "months = orders['Order Date']"
   ]
  },
  {
   "cell_type": "code",
   "execution_count": 77,
   "metadata": {
    "collapsed": false,
    "deletable": true,
    "editable": true
   },
   "outputs": [
    {
     "data": {
      "text/plain": [
       "0    01/22/11\n",
       "1    02/19/11\n",
       "2    03/23/11\n",
       "3    06/10/11\n",
       "4    06/22/11\n",
       "Name: Order Date, dtype: object"
      ]
     },
     "execution_count": 77,
     "metadata": {},
     "output_type": "execute_result"
    }
   ],
   "source": [
    "months.head()"
   ]
  },
  {
   "cell_type": "code",
   "execution_count": 78,
   "metadata": {
    "collapsed": false,
    "deletable": true,
    "editable": true
   },
   "outputs": [],
   "source": [
    "parse_month = lambda x: float(x[0:2])"
   ]
  },
  {
   "cell_type": "code",
   "execution_count": 79,
   "metadata": {
    "collapsed": false,
    "deletable": true,
    "editable": true
   },
   "outputs": [],
   "source": [
    "months = months.apply(parse_month);"
   ]
  },
  {
   "cell_type": "code",
   "execution_count": 80,
   "metadata": {
    "collapsed": false,
    "deletable": true,
    "editable": true
   },
   "outputs": [
    {
     "data": {
      "text/plain": [
       "0    1.0\n",
       "1    2.0\n",
       "2    3.0\n",
       "3    6.0\n",
       "4    6.0\n",
       "Name: Order Date, dtype: float64"
      ]
     },
     "execution_count": 80,
     "metadata": {},
     "output_type": "execute_result"
    }
   ],
   "source": [
    "months.head()"
   ]
  },
  {
   "cell_type": "code",
   "execution_count": 81,
   "metadata": {
    "collapsed": false,
    "deletable": true,
    "editable": true
   },
   "outputs": [
    {
     "data": {
      "text/plain": [
       "12.0    28\n",
       "9.0     24\n",
       "1.0     24\n",
       "2.0     22\n",
       "10.0    21\n",
       "7.0     20\n",
       "4.0     19\n",
       "11.0    18\n",
       "6.0     17\n",
       "8.0      8\n",
       "5.0      8\n",
       "3.0      8\n",
       "Name: Order Date, dtype: int64"
      ]
     },
     "execution_count": 81,
     "metadata": {},
     "output_type": "execute_result"
    }
   ],
   "source": [
    "months.value_counts()"
   ]
  },
  {
   "cell_type": "code",
   "execution_count": 82,
   "metadata": {
    "collapsed": false,
    "deletable": true,
    "editable": true
   },
   "outputs": [
    {
     "data": {
      "text/plain": [
       "<matplotlib.text.Text at 0x11365fd90>"
      ]
     },
     "execution_count": 82,
     "metadata": {},
     "output_type": "execute_result"
    },
    {
     "data": {
      "image/png": "[encoded data removed]",
      "text/plain": [
       "<matplotlib.figure.Figure at 0x11384bb10>"
      ]
     },
     "metadata": {},
     "output_type": "display_data"
    }
   ],
   "source": [
    "# risky! and not scalable (scroll down, I found a better way to do this)\n",
    "month_dict = {12:28, 9:24, 1:24, 2:22, 10:21, 7:20, 4:19, 11:18, 6:17, 8:8, 5:8, 3:8}\n",
    "x = month_dict.keys()\n",
    "y = month_dict.values()\n",
    "ax = plt.subplot()\n",
    "barWidth=0.5\n",
    "ax.bar(month_dict.keys(), month_dict.values(), width=barWidth, align='center')\n",
    "ax.set_title('Amazon book purchases by month')\n",
    "ax.set_xlabel('Month')\n",
    "ax.set_ylabel('# of Orders')"
   ]
  },
  {
   "cell_type": "code",
   "execution_count": 83,
   "metadata": {
    "collapsed": false,
    "deletable": true,
    "editable": true
   },
   "outputs": [
    {
     "data": {
      "text/plain": [
       "<matplotlib.axes._subplots.AxesSubplot at 0x113adc2d0>"
      ]
     },
     "execution_count": 83,
     "metadata": {},
     "output_type": "execute_result"
    },
    {
     "data": {
      "image/png": "[encoded data removed]",
      "text/plain": [
       "<matplotlib.figure.Figure at 0x1139803d0>"
      ]
     },
     "metadata": {},
     "output_type": "display_data"
    }
   ],
   "source": [
    "months.plot(x = months, kind = 'hist', width=0.5) # hmmm"
   ]
  },
  {
   "cell_type": "code",
   "execution_count": 84,
   "metadata": {
    "collapsed": true,
    "deletable": true,
    "editable": true
   },
   "outputs": [],
   "source": [
    "years = orders['Order Date']"
   ]
  },
  {
   "cell_type": "code",
   "execution_count": 85,
   "metadata": {
    "collapsed": true,
    "deletable": true,
    "editable": true
   },
   "outputs": [],
   "source": [
    "parse_years = lambda x: float(x[6:8])"
   ]
  },
  {
   "cell_type": "code",
   "execution_count": 86,
   "metadata": {
    "collapsed": true,
    "deletable": true,
    "editable": true
   },
   "outputs": [],
   "source": [
    "years = years.apply(parse_years)"
   ]
  },
  {
   "cell_type": "code",
   "execution_count": 87,
   "metadata": {
    "collapsed": false,
    "deletable": true,
    "editable": true
   },
   "outputs": [
    {
     "data": {
      "text/plain": [
       "0    11.0\n",
       "1    11.0\n",
       "2    11.0\n",
       "3    11.0\n",
       "4    11.0\n",
       "Name: Order Date, dtype: float64"
      ]
     },
     "execution_count": 87,
     "metadata": {},
     "output_type": "execute_result"
    }
   ],
   "source": [
    "years.head()"
   ]
  },
  {
   "cell_type": "code",
   "execution_count": 88,
   "metadata": {
    "collapsed": false,
    "deletable": true,
    "editable": true
   },
   "outputs": [
    {
     "data": {
      "text/plain": [
       "31.0"
      ]
     },
     "execution_count": 88,
     "metadata": {},
     "output_type": "execute_result"
    }
   ],
   "source": [
    "# order about 31 items a year\n",
    "years.value_counts().mean()"
   ]
  },
  {
   "cell_type": "code",
   "execution_count": 89,
   "metadata": {
    "collapsed": false,
    "deletable": true,
    "editable": true
   },
   "outputs": [
    {
     "data": {
      "text/plain": [
       "<matplotlib.text.Text at 0x113cab110>"
      ]
     },
     "execution_count": 89,
     "metadata": {},
     "output_type": "execute_result"
    },
    {
     "data": {
      "image/png": "[encoded data removed]",
      "text/plain": [
       "<matplotlib.figure.Figure at 0x113e270d0>"
      ]
     },
     "metadata": {},
     "output_type": "display_data"
    }
   ],
   "source": [
    "years_dict = {15:45, 12:41, 16:34, 13:33, 14:27, 11:20, 17:17}\n",
    "ax = plt.subplot()\n",
    "barWidth=0.5\n",
    "ax.bar(years_dict.keys(), years_dict.values(), width=barWidth, align='center')\n",
    "ax.set_title('Amazon purchases by year')\n",
    "ax.set_xlabel('Year')\n",
    "ax.set_ylabel('# of Orders')"
   ]
  },
  {
   "cell_type": "code",
   "execution_count": 90,
   "metadata": {
    "collapsed": false,
    "deletable": true,
    "editable": true
   },
   "outputs": [
    {
     "data": {
      "text/plain": [
       "<matplotlib.axes._subplots.AxesSubplot at 0x11367c390>"
      ]
     },
     "execution_count": 90,
     "metadata": {},
     "output_type": "execute_result"
    },
    {
     "data": {
      "image/png": "[encoded data removed]",
      "text/plain": [
       "<matplotlib.figure.Figure at 0x113d53990>"
      ]
     },
     "metadata": {},
     "output_type": "display_data"
    }
   ],
   "source": [
    "# why is this a mess?!\n",
    "years.hist(bins = 7, width = 0.5)"
   ]
  },
  {
   "cell_type": "code",
   "execution_count": 91,
   "metadata": {
    "collapsed": false,
    "deletable": true,
    "editable": true
   },
   "outputs": [],
   "source": [
    "parse_amounts = lambda x : float(x[1:5])"
   ]
  },
  {
   "cell_type": "code",
   "execution_count": 92,
   "metadata": {
    "collapsed": false,
    "deletable": true,
    "editable": true
   },
   "outputs": [],
   "source": [
    "amounts = orders['Item Total'].apply(parse_amounts)"
   ]
  },
  {
   "cell_type": "code",
   "execution_count": 93,
   "metadata": {
    "collapsed": false,
    "deletable": true,
    "editable": true
   },
   "outputs": [
    {
     "data": {
      "text/plain": [
       "4864.2199999999993"
      ]
     },
     "execution_count": 93,
     "metadata": {},
     "output_type": "execute_result"
    }
   ],
   "source": [
    "amounts.sum()"
   ]
  },
  {
   "cell_type": "code",
   "execution_count": 94,
   "metadata": {
    "collapsed": false,
    "deletable": true,
    "editable": true
   },
   "outputs": [
    {
     "data": {
      "text/plain": [
       "22.415760368663591"
      ]
     },
     "execution_count": 94,
     "metadata": {},
     "output_type": "execute_result"
    }
   ],
   "source": [
    "amounts.mean()"
   ]
  },
  {
   "cell_type": "code",
   "execution_count": 95,
   "metadata": {
    "collapsed": false,
    "deletable": true,
    "editable": true
   },
   "outputs": [],
   "source": [
    "order_counts = {}\n",
    "for j in orders['Category']:\n",
    "    if j in order_counts.keys():\n",
    "        order_counts[j] += 1\n",
    "    else:\n",
    "        order_counts[j] = 1"
   ]
  },
  {
   "cell_type": "code",
   "execution_count": 96,
   "metadata": {
    "collapsed": false,
    "deletable": true,
    "editable": true,
    "scrolled": false
   },
   "outputs": [
    {
     "data": {
      "text/plain": [
       "<matplotlib.text.Text at 0x1137b9290>"
      ]
     },
     "execution_count": 96,
     "metadata": {},
     "output_type": "execute_result"
    },
    {
     "data": {
      "image/png": "[encoded data removed]",
      "text/plain": [
       "<matplotlib.figure.Figure at 0x113cd41d0>"
      ]
     },
     "metadata": {},
     "output_type": "display_data"
    }
   ],
   "source": [
    "x = range(1,len(order_counts.keys())+1)\n",
    "plt.xticks(x, order_counts.keys(),rotation='vertical')\n",
    "plt.bar(x, order_counts.values(), align='center')\n",
    "barWidth=0.5\n",
    "plt.title('Amazon purchases by category')\n",
    "plt.xlabel('Category')\n",
    "plt.ylabel('# of Orders')"
   ]
  },
  {
   "cell_type": "code",
   "execution_count": 97,
   "metadata": {
    "collapsed": false,
    "deletable": true,
    "editable": true
   },
   "outputs": [],
   "source": [
    "paperbacks = orders.loc[orders['Category']=='Paperback'];"
   ]
  },
  {
   "cell_type": "code",
   "execution_count": 98,
   "metadata": {
    "collapsed": true,
    "deletable": true,
    "editable": true
   },
   "outputs": [],
   "source": [
    "hardcovers = orders.loc[orders['Category']=='Hardcover'];"
   ]
  },
  {
   "cell_type": "code",
   "execution_count": 99,
   "metadata": {
    "collapsed": false,
    "deletable": true,
    "editable": true
   },
   "outputs": [
    {
     "data": {
      "text/plain": [
       "7     Introduction to Numerical Analysis: Second Edi...\n",
       "8     Fluid Mechanics (Dover Classics of Science & M...\n",
       "10    Guesstimation: Solving the World's Problems on...\n",
       "11    Calculus of Variations (Dover Books on Mathema...\n",
       "12    American Political Cartoons, 1754-2010: The Ev...\n",
       "Name: Title, dtype: object"
      ]
     },
     "execution_count": 99,
     "metadata": {},
     "output_type": "execute_result"
    }
   ],
   "source": [
    "paperbacks['Title'].head()"
   ]
  },
  {
   "cell_type": "code",
   "execution_count": 100,
   "metadata": {
    "collapsed": false,
    "deletable": true,
    "editable": true
   },
   "outputs": [
    {
     "data": {
      "text/plain": [
       "39    Introduction to Probability Models, Tenth Edition\n",
       "64    Introduction to Perturbation Methods (Texts in...\n",
       "85    Functions of One Complex Variable (Graduate Te...\n",
       "87          Die Empty: Unleash Your Best Work Every Day\n",
       "94    Fast Multipole Boundary Element Method: Theory...\n",
       "Name: Title, dtype: object"
      ]
     },
     "execution_count": 100,
     "metadata": {},
     "output_type": "execute_result"
    }
   ],
   "source": [
    "hardcovers['Title'].head()"
   ]
  },
  {
   "cell_type": "code",
   "execution_count": 101,
   "metadata": {
    "collapsed": false,
    "deletable": true,
    "editable": true
   },
   "outputs": [],
   "source": [
    "hc_prices = hardcovers['Item Total'].apply(parse_amounts)"
   ]
  },
  {
   "cell_type": "code",
   "execution_count": 102,
   "metadata": {
    "collapsed": true,
    "deletable": true,
    "editable": true
   },
   "outputs": [],
   "source": [
    "pb_prices = paperbacks['Item Total'].apply(parse_amounts)"
   ]
  },
  {
   "cell_type": "code",
   "execution_count": 103,
   "metadata": {
    "collapsed": false,
    "deletable": true,
    "editable": true
   },
   "outputs": [
    {
     "data": {
      "text/plain": [
       "985.75"
      ]
     },
     "execution_count": 103,
     "metadata": {},
     "output_type": "execute_result"
    }
   ],
   "source": [
    "hc_prices.sum()"
   ]
  },
  {
   "cell_type": "code",
   "execution_count": 104,
   "metadata": {
    "collapsed": false,
    "deletable": true,
    "editable": true
   },
   "outputs": [
    {
     "data": {
      "text/plain": [
       "1401.48"
      ]
     },
     "execution_count": 104,
     "metadata": {},
     "output_type": "execute_result"
    }
   ],
   "source": [
    "pb_prices.sum()"
   ]
  },
  {
   "cell_type": "code",
   "execution_count": 105,
   "metadata": {
    "collapsed": false,
    "deletable": true,
    "editable": true
   },
   "outputs": [
    {
     "data": {
      "text/plain": [
       "188.0"
      ]
     },
     "execution_count": 105,
     "metadata": {},
     "output_type": "execute_result"
    }
   ],
   "source": [
    "hc_prices.max()"
   ]
  },
  {
   "cell_type": "code",
   "execution_count": 106,
   "metadata": {
    "collapsed": false,
    "deletable": true,
    "editable": true
   },
   "outputs": [
    {
     "data": {
      "text/plain": [
       "92.200000000000003"
      ]
     },
     "execution_count": 106,
     "metadata": {},
     "output_type": "execute_result"
    }
   ],
   "source": [
    "pb_prices.max()"
   ]
  },
  {
   "cell_type": "code",
   "execution_count": 107,
   "metadata": {
    "collapsed": false,
    "deletable": true,
    "editable": true
   },
   "outputs": [
    {
     "data": {
      "text/plain": [
       "182    188.0\n",
       "Name: Item Total, dtype: float64"
      ]
     },
     "execution_count": 107,
     "metadata": {},
     "output_type": "execute_result"
    }
   ],
   "source": [
    "hc_prices[hc_prices==hc_prices.max()]"
   ]
  },
  {
   "cell_type": "code",
   "execution_count": 108,
   "metadata": {
    "collapsed": false,
    "deletable": true,
    "editable": true
   },
   "outputs": [
    {
     "data": {
      "text/plain": [
       "182    The Art of Computer Programming, Volumes 1-4A ...\n",
       "Name: Title, dtype: object"
      ]
     },
     "execution_count": 108,
     "metadata": {},
     "output_type": "execute_result"
    }
   ],
   "source": [
    "# Ah! TAOCP. Worth it\n",
    "orders[orders.index==182]['Title']"
   ]
  },
  {
   "cell_type": "code",
   "execution_count": 109,
   "metadata": {
    "collapsed": false,
    "deletable": true,
    "editable": true
   },
   "outputs": [
    {
     "data": {
      "text/plain": [
       "188    92.2\n",
       "Name: Item Total, dtype: float64"
      ]
     },
     "execution_count": 109,
     "metadata": {},
     "output_type": "execute_result"
    }
   ],
   "source": [
    "pb_prices[pb_prices==pb_prices.max()]"
   ]
  },
  {
   "cell_type": "code",
   "execution_count": 110,
   "metadata": {
    "collapsed": false,
    "deletable": true,
    "editable": true
   },
   "outputs": [
    {
     "data": {
      "text/plain": [
       "188    Deployable Real-time Traffic Routing Under Inf...\n",
       "Name: Title, dtype: object"
      ]
     },
     "execution_count": 110,
     "metadata": {},
     "output_type": "execute_result"
    }
   ],
   "source": [
    "# figures...\n",
    "orders[orders.index==188]['Title']"
   ]
  },
  {
   "cell_type": "code",
   "execution_count": 111,
   "metadata": {
    "collapsed": false,
    "deletable": true,
    "editable": true
   },
   "outputs": [
    {
     "data": {
      "text/plain": [
       "39    Introduction to Probability Models, Tenth Edition\n",
       "64    Introduction to Perturbation Methods (Texts in...\n",
       "85    Functions of One Complex Variable (Graduate Te...\n",
       "87          Die Empty: Unleash Your Best Work Every Day\n",
       "94    Fast Multipole Boundary Element Method: Theory...\n",
       "Name: Title, dtype: object"
      ]
     },
     "execution_count": 111,
     "metadata": {},
     "output_type": "execute_result"
    }
   ],
   "source": [
    "books = pd.concat([hardcovers, paperbacks])\n",
    "books['Title'].head()"
   ]
  },
  {
   "cell_type": "code",
   "execution_count": 112,
   "metadata": {
    "collapsed": false,
    "deletable": true,
    "editable": true
   },
   "outputs": [],
   "source": [
    "# let's figure out the titles of what I read\n",
    "titles = defaultdict(int)\n",
    "for j in books['Title']:\n",
    "    for k in j.split(' '):\n",
    "        if k.lower() in titles.keys():\n",
    "            titles[k.lower()] += 1\n",
    "        else:\n",
    "            titles[k.lower()] = 1"
   ]
  },
  {
   "cell_type": "code",
   "execution_count": 113,
   "metadata": {
    "collapsed": false,
    "deletable": true,
    "editable": true,
    "scrolled": true
   },
   "outputs": [
    {
     "name": "stdout",
     "output_type": "stream",
     "text": [
      "of 34\n",
      "and 32\n",
      "in 32\n",
      "the 32\n",
      "to 29\n",
      "a 22\n",
      "(dover 15\n",
      "mathematics) 15\n",
      "edition 13\n",
      "on 13\n",
      "your 11\n",
      "books 10\n",
      "with 10\n",
      "applications 7\n",
      "series 7\n",
      "introduction 7\n",
      "& 6\n",
      "how 6\n",
      "data 6\n",
      "statistical 6\n",
      "theory 6\n",
      "applied 6\n",
      "methods 6\n",
      "programming 5\n",
      "probability 5\n",
      "computer 5\n",
      "guide 5\n",
      "numerical 5\n",
      "science) 5\n",
      "research 4\n",
      "second 4\n",
      "texts 4\n",
      "effective 4\n",
      "art 4\n",
      "for 4\n",
      "programming, 3\n",
      "thrift 3\n",
      "use 3\n",
      "from 3\n",
      "work 3\n",
      "control 3\n",
      "outline 3\n",
      "operations 3\n",
      "(springer 3\n",
      "editions) 3\n",
      "ways 3\n",
      "life 3\n",
      "optimization 3\n",
      "analysis 3\n",
      "c++, 3\n",
      "mathematical 3\n",
      "at 3\n",
      "functions 3\n",
      "mathematics 3\n",
      "you 3\n",
      "go 2\n",
      "shaving 2\n",
      "inference, 2\n",
      "(texts 2\n",
      "models, 2\n",
      "linear 2\n",
      "equations 2\n",
      "change 2\n",
      "foundations 2\n",
      "statistics) 2\n",
      "everyday 2\n",
      "habits 2\n",
      "network 2\n",
      "standard 2\n",
      "perturbation 2\n",
      "mining, 2\n",
      "learning: 2\n",
      "american 2\n",
      "think 2\n",
      "one 2\n",
      "management 2\n",
      "that 2\n",
      "1: 2\n",
      "modern 2\n",
      "say 2\n",
      "any 2\n",
      "- 2\n",
      "calculus 2\n",
      "who 2\n",
      "cover 2\n",
      "random 2\n",
      "new 2\n",
      "differential 2\n",
      "improve 2\n",
      "(cambridge 2\n",
      "2nd 2\n",
      "bayesian 2\n",
      "things 2\n",
      "python 2\n",
      "complex 2\n",
      "happiness 2\n",
      "thinking 2\n",
      "book 2\n",
      "back 2\n",
      "specific 2\n",
      "be 2\n",
      "(graduate 2\n",
      "analysis: 2\n",
      "fast 2\n",
      "complete 2\n",
      "volume 2\n",
      "edition: 2\n",
      "mechanics 2\n",
      "an 2\n",
      "engineering 2\n",
      "when 2\n",
      "elements 2\n",
      "problems 2\n",
      "variable 2\n",
      "land 2\n",
      "partial 1\n",
      "real-time 1\n",
      "dynasty 1\n",
      "enjoyable 1\n",
      "elements: 1\n",
      "leisureguy's 1\n",
      "under 1\n",
      "discovering 1\n",
      "stochastic 1\n",
      "rational 1\n",
      "writing: 1\n",
      "every 1\n",
      "trouble 1\n",
      "skills 1\n",
      "die 1\n",
      "1754-2010: 1\n",
      "solution 1\n",
      "cloudy 1\n",
      "language, 1\n",
      "large 1\n",
      "world-class 1\n",
      "language: 1\n",
      "20th 1\n",
      "(pure 1\n",
      "enjoy 1\n",
      "distasteful 1\n",
      "quiet: 1\n",
      "pragmatic 1\n",
      "prediction 1\n",
      "many-body 1\n",
      "physics) 1\n",
      "design 1\n",
      "what 1\n",
      "nonlinear 1\n",
      "mathematician's 1\n",
      "anniversary 1\n",
      "javascript: 1\n",
      "template 1\n",
      "guilt, 1\n",
      "learned 1\n",
      "multipole 1\n",
      "explore 1\n",
      "scrape, 1\n",
      "let 1\n",
      "healing 1\n",
      "100 1\n",
      "brilliant 1\n",
      "introductory 1\n",
      "microsoft, 1\n",
      "studies 1\n",
      "reclaim 1\n",
      "inference 1\n",
      "win 1\n",
      "highly 1\n",
      "(international 1\n",
      "wit 1\n",
      "duck 1\n",
      "should 1\n",
      "tools 1\n",
      "raspberry 1\n",
      "takes 1\n",
      "world's 1\n",
      "chairs. 1\n",
      "wiper 1\n",
      "more 1\n",
      "series) 1\n",
      "interviews, 1\n",
      "company 1\n",
      "vol. 1\n",
      "loony 1\n",
      "recycle 1\n",
      "visual 1\n",
      "warm 1\n",
      "salaries, 1\n",
      "algorithms, 1\n",
      "women 1\n",
      "cluster 1\n",
      "science 1\n",
      "equation 1\n",
      "primer 1\n",
      "prediction, 1\n",
      "morgan 1\n",
      "learn 1\n",
      "internships, 1\n",
      "challenging 1\n",
      "(v. 1\n",
      "equations: 1\n",
      "c++14 1\n",
      "c++11 1\n",
      "phrase 1\n",
      "information 1\n",
      "concise, 1\n",
      "amazing 1\n",
      "blocks 1\n",
      "cocktail 1\n",
      "algebra 1\n",
      "lad 1\n",
      "(problem 1\n",
      "collection 1\n",
      "empty: 1\n",
      "4th 1\n",
      "third 1\n",
      "computations 1\n",
      "shropshire 1\n",
      "fluent 1\n",
      "complexity 1\n",
      "algorithms 1\n",
      "unleash 1\n",
      "emails. 1\n",
      "over 1\n",
      "top 1\n",
      "through 1\n",
      "then, 1\n",
      "personal 1\n",
      "solving 1\n",
      ", 1\n",
      "2: 1\n",
      "schaum's 1\n",
      "focus, 1\n",
      "systems 1\n",
      "dreadfully 1\n",
      "2015 1\n",
      "lonely 1\n",
      "evelyn, 1\n",
      "opportunities, 1\n",
      "break 1\n",
      "(chapman 1\n",
      "day 1\n",
      "(johns 1\n",
      "titans: 1\n",
      "development 1\n",
      "(the 1\n",
      "energy 1\n",
      "700 1\n",
      "principles 1\n",
      "deployable 1\n",
      "api, 1\n",
      "(classics 1\n",
      "measure 1\n",
      "tenth 1\n",
      "advantage: 1\n",
      "special 1\n",
      "living 1\n",
      "yes, 1\n",
      "3rd 1\n",
      "god 1\n",
      "(universitext) 1\n",
      "combinatorial 1\n",
      "day, 1\n",
      "hill 1\n",
      "7 1\n",
      "print 1\n",
      "c++: 1\n",
      "resume: 1\n",
      "(third) 1\n",
      "aid: 1\n",
      "bayes 1\n",
      "element 1\n",
      "networking 1\n",
      "beginning 1\n",
      "kaufmann 1\n",
      "prepare 1\n",
      "recipes 1\n",
      "resumes 1\n",
      "time-varying 1\n",
      "first 1\n",
      "i'll 1\n",
      "industrial 1\n",
      "introverts 1\n",
      "powerful 1\n",
      "spanish 1\n",
      "quality 1\n",
      "sockets 1\n",
      "you're 1\n",
      "little 1\n",
      "identity. 1\n",
      "gourmet 1\n",
      "apple, 1\n",
      "master 1\n",
      "essays 1\n",
      "unpublished 1\n",
      "stl: 1\n",
      "blades, 1\n",
      "lists 1\n",
      "job: 1\n",
      "1-4a 1\n",
      "appreciated 1\n",
      "10 1\n",
      "performers 1\n",
      "tree 1\n",
      "supposed 1\n",
      "1) 1\n",
      "imperfection: 1\n",
      "programmer: 1\n",
      "creative: 1\n",
      "mindfulness 1\n",
      "trusting 1\n",
      "mind 1\n",
      "talking 1\n",
      "disquisition 1\n",
      "rejection, 1\n",
      "ideas 1\n",
      "battles 1\n",
      "other 1\n",
      "potential 1\n",
      "generalized 1\n",
      "performance 1\n",
      "unconstrained 1\n",
      "boundaries: 1\n",
      "user's 1\n",
      "guide) 1\n",
      "screwtape 1\n",
      "letter 1\n",
      "wisdom 1\n",
      "probabilistic 1\n",
      "model 1\n",
      "napkin 1\n",
      "letters, 1\n",
      "traditional 1\n",
      "federal 1\n",
      "tech 1\n",
      "physics 1\n",
      "3/e 1\n",
      "text 1\n",
      "fifty 1\n",
      "(mcgraw 1\n",
      "solutions 1\n",
      "meditations 1\n",
      "networks 1\n",
      "lessons 1\n",
      "sciences)(3rd 1\n",
      "upgrade 1\n",
      "3 1\n",
      "operational 1\n",
      "only 1\n",
      "fuel 1\n",
      "get 1\n",
      "them.: 1\n",
      "stop 1\n",
      "fluid 1\n",
      "pocket 1\n",
      "basics: 1\n",
      "edition) 1\n",
      "bead 1\n",
      "evolution 1\n",
      "c++ 1\n",
      "statist 1\n",
      "logistic 1\n",
      "press) 1\n",
      "set 1\n",
      "national 1\n",
      "we 1\n",
      "are 1\n",
      "theoretic 1\n",
      "best 1\n",
      "planet 1\n",
      "regression, 1\n",
      "capacity 1\n",
      "meatballs 1\n",
      "(mit 1\n",
      "routing 1\n",
      "recorded, 1\n",
      "boundary 1\n",
      "approach 1\n",
      "game: 1\n",
      "notice 1\n",
      "visualization 1\n",
      "joy 1\n",
      "queueing 1\n",
      "icons, 1\n",
      "tactics, 1\n",
      "stress-free 1\n",
      "job 1\n",
      "hurts 1\n",
      "modeling 1\n",
      "c 1\n",
      "career 1\n",
      "studio 1\n",
      "can't 1\n",
      "(travel 1\n",
      "solvers) 1\n",
      "solvers, 1\n",
      "tornado: 1\n",
      "networking) 1\n",
      "it's 1\n",
      "political 1\n",
      "networking, 1\n",
      "hall/crc 1\n",
      "flexible 1\n",
      "pi 1\n",
      "c# 1\n",
      "modelling 1\n",
      "c: 1\n",
      "novel 1\n",
      "look 1\n",
      "(schaum's 1\n",
      "solid 1\n",
      "plain 1\n",
      "art: 1\n",
      "richard's 1\n",
      "seven 1\n",
      "pound 1\n",
      "vol 1\n",
      "faith: 1\n",
      "flow, 1\n",
      "embrace 1\n",
      "counterexamples 1\n",
      "typeset, 1\n",
      "regression 1\n",
      "productivity 1\n",
      "clear, 1\n",
      "probability, 1\n",
      "finite 1\n",
      "ordinal 1\n",
      "routines, 1\n",
      "bulletproof 1\n",
      "identity 1\n",
      "diet: 1\n",
      "english: 1\n",
      "people: 1\n",
      "being 1\n",
      "42 1\n",
      "optimization: 1\n",
      "python: 1\n",
      "computing, 1\n",
      "demand: 1\n",
      "provision: 1\n",
      "scattering 1\n",
      "web 1\n",
      "(magister 1\n",
      "processes, 1\n",
      "easy 1\n",
      "has 1\n",
      "take 1\n",
      "boxed 1\n",
      "action: 1\n",
      "read 1\n",
      "survival 1\n",
      "probability: 1\n",
      "traffic 1\n",
      "classics) 1\n",
      "world 1\n",
      "walk 1\n",
      "published, 1\n",
      "advanced 1\n",
      "adams 1\n",
      "success 1\n",
      "unix 1\n",
      "almanack 1\n",
      "lose 1\n",
      "google 1\n",
      "madrid 1\n",
      "11) 1\n",
      "library 1\n",
      "50 1\n",
      "cartoons, 1\n",
      "home 1\n",
      "tutorial 1\n",
      "happens 1\n",
      "creative 1\n",
      "done: 1\n",
      "routing, 1\n",
      "clean, 1\n",
      "scientific 1\n",
      "power 1\n",
      "sixth 1\n",
      "method: 1\n",
      "dictators 1\n",
      "journeyman 1\n",
      "manufacturing 1\n",
      "super 1\n",
      "google, 1\n",
      "hopkins 1\n",
      "practical 1\n",
      "classics 1\n",
      "or 1\n",
      "billionaires, 1\n",
      "letters 1\n",
      "communication 1\n",
      "within 1\n",
      "integral 1\n",
      "functional 1\n",
      "getting 1\n",
      "behavior-consistent 1\n",
      "analysis, 1\n",
      "computer-integrated 1\n",
      "theory, 1\n",
      "systems: 1\n",
      "guesstimation: 1\n",
      "strategies: 1\n",
      "phrases 1\n",
      "3th 1\n",
      "transform 1\n",
      "inner 1\n",
      "way 1\n",
      "ed 1\n",
      "corpse: 1\n",
      "war 1\n",
      "fundamentals 1\n",
      "6 1\n",
      "made 1\n",
      "places 1\n",
      "variations 1\n",
      "up 1\n",
      "emotional 1\n",
      "deadlock 1\n",
      "optimism: 1\n",
      "cinderella. 1\n",
      "ludi) 1\n",
      "textbook 1\n",
      "failure, 1\n",
      "no 1\n",
      "moment's 1\n",
      "poor 1\n",
      "almanac 1\n",
      "accidental 1\n",
      "models 1\n",
      "gifts 1\n",
      "chance 1\n",
      "matrix 1\n",
      "building 1\n",
      "top-paying 1\n",
      "apology 1\n",
      "glass 1\n",
      "variables, 1\n",
      "volumes 1\n",
      "resolution 1\n",
      "having 1\n"
     ]
    }
   ],
   "source": [
    "for w in sorted(titles, key=titles.get, reverse=True):\n",
    "      print w, titles[w]"
   ]
  },
  {
   "cell_type": "code",
   "execution_count": 114,
   "metadata": {
    "collapsed": true,
    "deletable": true,
    "editable": true
   },
   "outputs": [],
   "source": [
    "# so the perfect book for me would be \"The Dover Mathematics Edition: Books\"\n",
    "# But seriously, it looks like something from dover on introductions or applications of math, with a seeming bias\n",
    "# to statistics, probability, and programming"
   ]
  },
  {
   "cell_type": "code",
   "execution_count": 115,
   "metadata": {
    "collapsed": false,
    "deletable": true,
    "editable": true
   },
   "outputs": [],
   "source": [
    "# when do I buy books the most?\n",
    "book_months = {}\n",
    "book_years = {}\n",
    "book_year_frame = books['Order Date'].apply(parse_years)\n",
    "book_month_frame = books['Order Date'].apply(parse_month)"
   ]
  },
  {
   "cell_type": "code",
   "execution_count": 116,
   "metadata": {
    "collapsed": false,
    "deletable": true,
    "editable": true
   },
   "outputs": [],
   "source": [
    "book_years = book_year_frame.value_counts().to_dict()"
   ]
  },
  {
   "cell_type": "code",
   "execution_count": 117,
   "metadata": {
    "collapsed": false,
    "deletable": true,
    "editable": true
   },
   "outputs": [],
   "source": [
    "book_months = book_month_frame.value_counts().to_dict()"
   ]
  },
  {
   "cell_type": "code",
   "execution_count": 118,
   "metadata": {
    "collapsed": false,
    "deletable": true,
    "editable": true
   },
   "outputs": [
    {
     "data": {
      "text/plain": [
       "<matplotlib.text.Text at 0x1144fddd0>"
      ]
     },
     "execution_count": 118,
     "metadata": {},
     "output_type": "execute_result"
    },
    {
     "data": {
      "image/png": "[encoded data removed]",
      "text/plain": [
       "<matplotlib.figure.Figure at 0x1136aebd0>"
      ]
     },
     "metadata": {},
     "output_type": "display_data"
    }
   ],
   "source": [
    "ax = plt.subplot()\n",
    "barWidth=0.5\n",
    "ax.bar(book_months.keys(), book_months.values(), width=barWidth, align='center')\n",
    "ax.set_title('Amazon book purchases by month')\n",
    "ax.set_xlabel('Month')\n",
    "ax.set_ylabel('# of Orders')"
   ]
  },
  {
   "cell_type": "code",
   "execution_count": 119,
   "metadata": {
    "collapsed": false,
    "deletable": true,
    "editable": true,
    "scrolled": true
   },
   "outputs": [
    {
     "data": {
      "text/plain": [
       "<matplotlib.text.Text at 0x1145d1350>"
      ]
     },
     "execution_count": 119,
     "metadata": {},
     "output_type": "execute_result"
    },
    {
     "data": {
      "image/png": "[encoded data removed]",
      "text/plain": [
       "<matplotlib.figure.Figure at 0x11459c910>"
      ]
     },
     "metadata": {},
     "output_type": "display_data"
    }
   ],
   "source": [
    "ax = plt.subplot()\n",
    "barWidth=0.5\n",
    "ax.bar(book_years.keys(), book_years.values(), width=barWidth, align='center')\n",
    "ax.set_title('Amazon book purchases by year')\n",
    "ax.set_xlabel('Year')\n",
    "ax.set_ylabel('# of Orders')"
   ]
  },
  {
   "cell_type": "code",
   "execution_count": null,
   "metadata": {
    "collapsed": true
   },
   "outputs": [],
   "source": []
  },
  {
   "cell_type": "code",
   "execution_count": null,
   "metadata": {
    "collapsed": true
   },
   "outputs": [],
   "source": []
  }
 ],
 "metadata": {
  "kernelspec": {
   "display_name": "Python 2",
   "language": "python",
   "name": "python2"
  },
  "language_info": {
   "codemirror_mode": {
    "name": "ipython",
    "version": 2
   },
   "file_extension": ".py",
   "mimetype": "text/x-python",
   "name": "python",
   "nbconvert_exporter": "python",
   "pygments_lexer": "ipython2",
   "version": "2.7.12"
  }
 },
 "nbformat": 4,
 "nbformat_minor": 2
}
