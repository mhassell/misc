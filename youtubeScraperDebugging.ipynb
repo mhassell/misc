{
 "cells": [
  {
   "cell_type": "code",
   "execution_count": 14,
   "metadata": {
    "collapsed": false,
    "deletable": true,
    "editable": true
   },
   "outputs": [],
   "source": [
    "# https://stackoverflow.com/questions/39061354/scraping-youtube-playlist-video-links\n",
    "\n",
    "import urllib2\n",
    "from bs4 import BeautifulSoup \n",
    "import os\n",
    "from pytube import YouTube\n",
    "\n",
    "nVideos = 5\n",
    "\n",
    "# parse the page here\n",
    "htmlParser = \"lxml\"\n",
    "url='https://www.youtube.com/playlist?list=UU9-y-6csu5WGm29I7JiwpnA'\n",
    "path = '/Users/matthewhassell/Desktop'\n",
    "html=urllib2.urlopen(url)\n",
    "response=html.read()\n",
    "soup=BeautifulSoup(response, htmlParser)\n",
    "links = soup.find_all('a', attrs={'class':'pl-video-title-link'})\n",
    "\n",
    "links = links[0:nVideos]   # get the most recent videos\n",
    "\n",
    "# is this even new?\n",
    "lastVideoFile = open(\"lastVideos.txt\", \"r+b\")\n",
    "lastFive = lastVideoFile.read()\n",
    "\n",
    "\n",
    "if lastFive == '':\n",
    "\tfor a in links:\n",
    "\t\tlastVideoFile.write((a.get(\"href\")))\n",
    "\n",
    "\tlastVideoFile.close()\n",
    "else:\n",
    "\t# work forward from the old list and backwards from the new list\n",
    "\tfor j in range(nVideos):\n",
    "\t\tif links[nVideos-1-j].get(\"href\") == lastFive[j]:\n",
    "\t\t\tbreak\n",
    "\t# these are the new ones\t\t\n",
    "\tlinks = links[0:nVideos-j]\n",
    "\tlastFive = links + lastFive[j:]\n",
    "\t\n",
    "\t# take care of the file\n",
    "\tlastVideoFile.seek(0)\n",
    "\tlastVideoFile.write(lastFive)\n",
    "\tlastVideoFile.close()\n",
    "\n",
    "# now download the new ones\n",
    "for a in links:\n",
    "\tyt = YouTube('https://www.youtube.com' + a.get(\"href\"))\n",
    "\tvideo = yt.get('mp4', '360p')\n",
    "\tvideo.download('/Users/matthewhassell/Desktop/')"
   ]
  },
  {
   "cell_type": "code",
   "execution_count": 15,
   "metadata": {
    "collapsed": false,
    "deletable": true,
    "editable": true
   },
   "outputs": [
    {
     "data": {
      "text/plain": [
       "0"
      ]
     },
     "execution_count": 15,
     "metadata": {},
     "output_type": "execute_result"
    }
   ],
   "source": [
    "j"
   ]
  },
  {
   "cell_type": "code",
   "execution_count": null,
   "metadata": {
    "collapsed": true,
    "deletable": true,
    "editable": true
   },
   "outputs": [],
   "source": []
  }
 ],
 "metadata": {
  "kernelspec": {
   "display_name": "Python 2",
   "language": "python",
   "name": "python2"
  },
  "language_info": {
   "codemirror_mode": {
    "name": "ipython",
    "version": 2
   },
   "file_extension": ".py",
   "mimetype": "text/x-python",
   "name": "python",
   "nbconvert_exporter": "python",
   "pygments_lexer": "ipython2",
   "version": "2.7.12"
  }
 },
 "nbformat": 4,
 "nbformat_minor": 2
}
