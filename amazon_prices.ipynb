{
 "cells": [
  {
   "cell_type": "code",
   "execution_count": 27,
   "metadata": {
    "collapsed": true,
    "deletable": true,
    "editable": true
   },
   "outputs": [],
   "source": [
    "import urllib2\n",
    "from bs4 import BeautifulSoup \n",
    "import re\n",
    "import MySQLdb\n",
    "import config"
   ]
  },
  {
   "cell_type": "code",
   "execution_count": 28,
   "metadata": {
    "collapsed": false,
    "deletable": true,
    "editable": true
   },
   "outputs": [],
   "source": [
    "conn = MySQLdb.connect(\"localhost\", config.USERNAME, config.PASSWORD, \"amazon\")   # host, uname, pw, dbname\n",
    "C = conn.cursor()\n",
    "\n",
    "checkQuery = \"SELECT * FROM information_schema.tables WHERE table_name = 'product_prices'\"\n",
    "\n",
    "C.execute(checkQuery)\n",
    "tables = C.fetchall()\n",
    "\n",
    "if tables == ():\n",
    "    table = \" CREATE TABLE product_prices ( \"  \\\n",
    "    \"id INTEGER  NOT NULL AUTO_INCREMENT,\" \\\n",
    "    \"product_name varchar(256),\" \\\n",
    "    \"product_current_price double,\" \\\n",
    "    \"product_id varchar(256),\"\\\n",
    "    \"target_price double,\"\\\n",
    "    \"primary key ( id ));\"   \n",
    "    C.execute(table)"
   ]
  },
  {
   "cell_type": "code",
   "execution_count": 29,
   "metadata": {
    "collapsed": true,
    "deletable": true,
    "editable": true
   },
   "outputs": [],
   "source": [
    "url='https://www.amazon.com/gp/product/0199666598/'\n",
    "\n",
    "# parse the page here\n",
    "htmlParser = \"lxml\"\n",
    "html=urllib2.urlopen(url)\n",
    "response=html.read()\n",
    "soup=BeautifulSoup(response, htmlParser)\n",
    "\n",
    "# this gets the price\n",
    "links = soup.find_all('span', attrs={'class':'a-size-medium a-color-price header-price'})"
   ]
  },
  {
   "cell_type": "code",
   "execution_count": 30,
   "metadata": {
    "collapsed": false,
    "deletable": true,
    "editable": true
   },
   "outputs": [
    {
     "name": "stdout",
     "output_type": "stream",
     "text": [
      "['24.38']\n"
     ]
    }
   ],
   "source": [
    "currentPrice = re.findall('(\\d+\\.\\d{1,2})',str(links))   # lifted the regex from the internet\n",
    "print currentPrice"
   ]
  },
  {
   "cell_type": "code",
   "execution_count": 31,
   "metadata": {
    "collapsed": false,
    "deletable": true,
    "editable": true
   },
   "outputs": [],
   "source": [
    "name = soup.find_all('span', attrs={'id':'productTitle'})"
   ]
  },
  {
   "cell_type": "code",
   "execution_count": 32,
   "metadata": {
    "collapsed": false,
    "deletable": true,
    "editable": true
   },
   "outputs": [
    {
     "data": {
      "text/plain": [
       "u'An Introduction to Quantitative Finance'"
      ]
     },
     "execution_count": 32,
     "metadata": {},
     "output_type": "execute_result"
    }
   ],
   "source": [
    "name[0].text"
   ]
  },
  {
   "cell_type": "code",
   "execution_count": 26,
   "metadata": {
    "collapsed": false
   },
   "outputs": [
    {
     "ename": "SyntaxError",
     "evalue": "invalid syntax (<ipython-input-26-21ec2b880345>, line 3)",
     "output_type": "error",
     "traceback": [
      "\u001b[0;36m  File \u001b[0;32m\"<ipython-input-26-21ec2b880345>\"\u001b[0;36m, line \u001b[0;32m3\u001b[0m\n\u001b[0;31m    product_id  =\u001b[0m\n\u001b[0m                 ^\u001b[0m\n\u001b[0;31mSyntaxError\u001b[0m\u001b[0;31m:\u001b[0m invalid syntax\n"
     ]
    }
   ],
   "source": [
    "product_name = name[0].text\n",
    "current_price = re.findall('(\\d+\\.\\d{1,2})',str(links))\n",
    "product_id  = \n",
    "target_price = "
   ]
  },
  {
   "cell_type": "code",
   "execution_count": 73,
   "metadata": {
    "collapsed": false,
    "deletable": true,
    "editable": true
   },
   "outputs": [
    {
     "name": "stdout",
     "output_type": "stream",
     "text": [
      "SELECT product_name from product_prices where product_name = 'An Introduction to Quantitative Finance'\n"
     ]
    }
   ],
   "source": [
    "isNewQuery = \"SELECT product_name from product_prices where product_name = '%s'\" % name[0].text\n",
    "C.execute(isNewQuery)\n",
    "values = C.fetchall()\n",
    "if values = ():  # this is new\n",
    "    newQuery = \"INSERT INTO product_prices (product_name, current_price, product_id, target_price )\" \\\n",
    "    \" VALUES ('%s', %s, %s, %s, %s);\" % (product_name, current_price, product_id, target_price) \n",
    "    "
   ]
  },
  {
   "cell_type": "code",
   "execution_count": 21,
   "metadata": {
    "collapsed": false,
    "deletable": true,
    "editable": true
   },
   "outputs": [
    {
     "name": "stdout",
     "output_type": "stream",
     "text": [
      "[]\n"
     ]
    }
   ],
   "source": [
    "url='https://www.amazon.com/gp/product/B06VY28NR3/'\n",
    "\n",
    "# parse the page here\n",
    "htmlParser = \"lxml\"\n",
    "html=urllib2.urlopen(url)\n",
    "response=html.read()\n",
    "soup=BeautifulSoup(response, htmlParser)\n",
    "\n",
    "# this gets the price\n",
    "links = soup.find_all('span', attrs={'class':'a-size-medium a-color-price header-price'})\n",
    "currentPrice = re.findall('(\\d+\\.\\d{1,2})',str(links))\n",
    "print currentPrice"
   ]
  },
  {
   "cell_type": "code",
   "execution_count": null,
   "metadata": {
    "collapsed": true,
    "deletable": true,
    "editable": true
   },
   "outputs": [],
   "source": [
    "# LANA! DANGER ZONE\n",
    "query = \"DROP TABLE product_prices\"\n",
    "C.execute(query)"
   ]
  }
 ],
 "metadata": {
  "kernelspec": {
   "display_name": "Python 2",
   "language": "python",
   "name": "python2"
  },
  "language_info": {
   "codemirror_mode": {
    "name": "ipython",
    "version": 2
   },
   "file_extension": ".py",
   "mimetype": "text/x-python",
   "name": "python",
   "nbconvert_exporter": "python",
   "pygments_lexer": "ipython2",
   "version": "2.7.12"
  }
 },
 "nbformat": 4,
 "nbformat_minor": 2
}
